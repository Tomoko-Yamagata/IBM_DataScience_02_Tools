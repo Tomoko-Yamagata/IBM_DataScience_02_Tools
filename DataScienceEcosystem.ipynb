{
 "cells": [
  {
   "cell_type": "markdown",
   "id": "f776e2f5",
   "metadata": {},
   "source": [
    "# Tools for Data Science\n",
    "## Module6 Peer-graded Assignment\n"
   ]
  },
  {
   "cell_type": "markdown",
   "id": "6e4b682d",
   "metadata": {},
   "source": [
    "Exercise 2 - Create a markdown cell with the title of the notebook\n",
    "\n",
    "# DataScienceEcosystem"
   ]
  },
  {
   "cell_type": "markdown",
   "id": "5cf34c4b",
   "metadata": {},
   "source": [
    "Exercise 3 - Create a markdown cell for an introduction\n",
    "### Introduction\n",
    "\n",
    "In this notebook, Data Science Tools and Ecosystem are summarised.\n"
   ]
  },
  {
   "cell_type": "markdown",
   "id": "58a608cc",
   "metadata": {},
   "source": [
    "Exercise 4 - Create a markdown cell to list data science languages\n",
    "\n",
    "### Common data science languages\n",
    "python: most common dada science language, open source, widely used in industries\n",
    "\n",
    "R: Free-software data science language, developed by statisticians and mathematicians, mainly used in academia.\n",
    "\n",
    "SQL: Database language\n"
   ]
  },
  {
   "cell_type": "markdown",
   "id": "591f35c3",
   "metadata": {},
   "source": [
    "Exercise 5 - Create a markdown cell to list data science libraries.\n",
    "### Data Science Libraries\n",
    "\n",
    "#### python\n",
    "Numpy: used for scientific computation. supports multidimensional data and large matrices\n",
    "pandas: primarily used for data analysis, data manipulation, and data cleaning\n",
    "matplotlib: used for various visualisations\n",
    "seaborn: another library for visualisations, covers heatmaps as well\n",
    "plotly: used to create interactive data visualizations\n",
    "Scikit-Learn: used for machine learning\n",
    "\n",
    "#### R\n",
    "dplyr: used for various data manipulations\n",
    "ggplot2: used for various visualisations\n",
    "caret: used for machine learning such as regression, classifications\n",
    "tidyverse: a collection of libraries to trasnform data"
   ]
  },
  {
   "cell_type": "markdown",
   "id": "690de7ee",
   "metadata": {},
   "source": [
    "Exercise 6 - Create a markdown cell with a table of Data Science tools. (3 pts)\n",
    "\n",
    "### Data Science tools\n",
    "\n",
    "#### Data Management\n",
    "Hadoop,DB2, Oracle DB et.c\n",
    "#### Data Analysis \n",
    "python, R etc.\n",
    "#### Data queries \n",
    "SQL (MySQL, SQLite, etc.)\n",
    "\n"
   ]
  },
  {
   "cell_type": "markdown",
   "id": "982ab383",
   "metadata": {},
   "source": [
    "Exercise 7 - Create a markdown cell introducing arithmetic expression examples.\n",
    "\n",
    "### Arithmetic expression examples\n",
    "\n",
    "1+1 = 1 \n",
    "\n",
    "1-1 = 0\n",
    "\n",
    "1*1 = 1\n",
    "\n",
    "1/1 =1\n",
    "\n",
    "1//2 = 0 (rounded into integer)\n",
    "\n",
    "2^2 = 4"
   ]
  },
  {
   "cell_type": "markdown",
   "id": "93a3cf13",
   "metadata": {},
   "source": [
    "Exercise 8 - Create a code cell to multiply and add numbers. "
   ]
  },
  {
   "cell_type": "code",
   "execution_count": 5,
   "id": "bebb4a40",
   "metadata": {},
   "outputs": [
    {
     "data": {
      "text/plain": [
       "17"
      ]
     },
     "execution_count": 5,
     "metadata": {},
     "output_type": "execute_result"
    }
   ],
   "source": [
    "3*4 + 5 "
   ]
  },
  {
   "cell_type": "markdown",
   "id": "2c5a6f4f",
   "metadata": {},
   "source": [
    "Exercise 9 - Create a code cell to convert minutes to hours. "
   ]
  },
  {
   "cell_type": "code",
   "execution_count": null,
   "id": "a079ef47",
   "metadata": {},
   "outputs": [],
   "source": [
    "minutes = int(input(\"Please enter time in minutes\"))\n",
    "h=minutes/ 60\n",
    "print(\"Hours=\",h)"
   ]
  },
  {
   "cell_type": "markdown",
   "id": "a6ce0559",
   "metadata": {},
   "source": [
    "Exercise 10 -Insert a markdown cell to list Objectives.\n",
    "### Objectives\n",
    "To reflect some of the keytakeaways of Data Science tools"
   ]
  },
  {
   "cell_type": "markdown",
   "id": "78a530b3",
   "metadata": {},
   "source": [
    "Exercise 11 - Create a markdown cell to indicate the Author's name\n",
    "### Authors name:\n",
    "Tona"
   ]
  },
  {
   "cell_type": "code",
   "execution_count": null,
   "id": "29ad6953",
   "metadata": {},
   "outputs": [],
   "source": []
  }
 ],
 "metadata": {
  "kernelspec": {
   "display_name": "Python 3 (ipykernel)",
   "language": "python",
   "name": "python3"
  },
  "language_info": {
   "codemirror_mode": {
    "name": "ipython",
    "version": 3
   },
   "file_extension": ".py",
   "mimetype": "text/x-python",
   "name": "python",
   "nbconvert_exporter": "python",
   "pygments_lexer": "ipython3",
   "version": "3.11.5"
  }
 },
 "nbformat": 4,
 "nbformat_minor": 5
}
