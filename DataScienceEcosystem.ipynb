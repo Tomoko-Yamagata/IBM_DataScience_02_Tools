{
 "cells": [
  {
   "cell_type": "markdown",
   "id": "6e4b682d",
   "metadata": {},
   "source": [
    "Exercise 2 - Create a markdown cell with the title of the notebook\n",
    "\n",
    "\n",
    "# Data Science Tools and Ecosystem"
   ]
  },
  {
   "cell_type": "markdown",
   "id": "5cf34c4b",
   "metadata": {},
   "source": [
    "Exercise 3 - Create a markdown cell for an introduction\n",
    "### Introduction\n",
    "\n",
    "In this notebook, Data Science Tools and Ecosystem are summarized."
   ]
  },
  {
   "cell_type": "markdown",
   "id": "58a608cc",
   "metadata": {},
   "source": [
    "Exercise 4 - Create a markdown cell to list data science languages\n",
    "\n",
    "### List of Data science languages\n",
    "python: most common dada science language, open source, widely used in industries\n",
    "\n",
    "R: Free-software data science language, developed by statisticians and mathematicians, mainly used in academia.\n",
    "\n",
    "SQL: Database language\n",
    "\n",
    "Scala\n",
    "\n",
    "Java\n",
    "\n",
    "C++\n",
    "\n",
    "Julia\n",
    "\n",
    "JavaScript\n",
    "\n",
    "PHP\n",
    "\n",
    "Go\n",
    "\n",
    "Ruby\n",
    "\n",
    "Visual Basic"
   ]
  },
  {
   "cell_type": "markdown",
   "id": "591f35c3",
   "metadata": {},
   "source": [
    "Exercise 5 - Create a markdown cell to list data science libraries.\n",
    "### Data Science Libraries\n",
    "\n",
    "#### python\n",
    "Numpy: used for scientific computation. supports multidimensional data and large matrices\n",
    "\n",
    "pandas: primarily used for data analysis, data manipulation, and data cleaning\n",
    "\n",
    "matplotlib: used for various visualisations\n",
    "\n",
    "seaborn: another library for visualisations, covers heatmaps as well\n",
    "\n",
    "plotly: used to create interactive data visualizations\n",
    "\n",
    "Scikit-Learn: used for machine learning\n",
    "\n",
    "Keras\n",
    "\n",
    "TensorFlow\n",
    "\n",
    "PyTorch\n",
    "\n",
    "\n",
    "\n",
    "\n",
    "#### R\n",
    "dplyr: used for various data manipulations\n",
    "\n",
    "ggplot2: used for various visualisations\n",
    "\n",
    "caret: used for machine learning such as regression, classifications\n",
    "\n",
    "tidyverse: a collection of libraries to trasnform data"
   ]
  },
  {
   "cell_type": "markdown",
   "id": "690de7ee",
   "metadata": {},
   "source": [
    "Exercise 6 - Create a markdown cell with a table of Data Science tools. (3 pts)\n",
    "\n",
    "- Anaconda\n",
    "- Jupytor Notebook\n",
    "- Pycharm\n",
    "- R Studio"
   ]
  },
  {
   "cell_type": "markdown",
   "id": "982ab383",
   "metadata": {},
   "source": [
    "Exercise 7 - Create a markdown cell introducing arithmetic expression examples.\n",
    "\n",
    "### Arithmetic expression examples\n",
    "Below are a few examples of evaluating arithmetic expressions in Python\n",
    "\n",
    "\n",
    "1+1 = 1 \n",
    "\n",
    "1-1 = 0\n",
    "\n",
    "1*1 = 1\n",
    "\n",
    "1/1 =1\n",
    "\n",
    "1//2 = 0 (rounded into integer)\n",
    "\n",
    "2^2 = 4"
   ]
  },
  {
   "cell_type": "markdown",
   "id": "93a3cf13",
   "metadata": {},
   "source": [
    "Exercise 8 - Create a code cell to multiply and add numbers. \n"
   ]
  },
  {
   "cell_type": "code",
   "execution_count": null,
   "id": "bebb4a40",
   "metadata": {},
   "outputs": [],
   "source": [
    "#This a simple arithmetic expression to mutiply then add integers\n",
    "\n",
    "(3*4)+5"
   ]
  },
  {
   "cell_type": "markdown",
   "id": "2c5a6f4f",
   "metadata": {},
   "source": [
    "Exercise 9 - Create a code cell to convert minutes to hours. "
   ]
  },
  {
   "cell_type": "code",
   "execution_count": 3,
   "id": "e6c614d6",
   "metadata": {},
   "outputs": [
    {
     "data": {
      "text/plain": [
       "3.3333333333333335"
      ]
     },
     "execution_count": 3,
     "metadata": {},
     "output_type": "execute_result"
    }
   ],
   "source": [
    "#This will convert 200 minutes to hours by diving by 60\n",
    "\n",
    "200/60"
   ]
  },
  {
   "cell_type": "code",
   "execution_count": null,
   "id": "a079ef47",
   "metadata": {},
   "outputs": [],
   "source": [
    "# The following is to insert any values in minutes to convert it into hours.\n",
    "minutes = int(input(\"Please enter time in minutes\"))\n",
    "h=minutes/ 60\n",
    "print(\"Hours=\",h)"
   ]
  },
  {
   "cell_type": "markdown",
   "id": "a6ce0559",
   "metadata": {},
   "source": [
    "Exercise 10 -Insert a markdown cell to list Objectives.\n",
    "### Objectives\n",
    "\n",
    "- List popular languages for Data Science\n",
    "- List popular libraries of python or R used for Data Science\n",
    "- List common tools used for Data Science\n",
    "- List some examples of arithmetic expression in python\n",
    "- Show simple arithmetic expressions with a comment"
   ]
  },
  {
   "cell_type": "markdown",
   "id": "78a530b3",
   "metadata": {},
   "source": [
    "Exercise 11 - Create a markdown cell to indicate the Author's name\n",
    "### Authors name:\n",
    "Tona"
   ]
  }
 ],
 "metadata": {
  "kernelspec": {
   "display_name": "Python 3 (ipykernel)",
   "language": "python",
   "name": "python3"
  },
  "language_info": {
   "codemirror_mode": {
    "name": "ipython",
    "version": 3
   },
   "file_extension": ".py",
   "mimetype": "text/x-python",
   "name": "python",
   "nbconvert_exporter": "python",
   "pygments_lexer": "ipython3",
   "version": "3.11.5"
  }
 },
 "nbformat": 4,
 "nbformat_minor": 5
}
